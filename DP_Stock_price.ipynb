{
 "cells": [
  {
   "cell_type": "markdown",
   "metadata": {},
   "source": [
    "Using Asian Paints stock data from Dec 24, 2019 to Dec 23, 2021."
   ]
  },
  {
   "cell_type": "code",
   "execution_count": 1,
   "metadata": {},
   "outputs": [],
   "source": [
    "# Import the libraries\n",
    "import pandas as pd\n",
    "import numpy as np"
   ]
  },
  {
   "cell_type": "code",
   "execution_count": 2,
   "metadata": {},
   "outputs": [
    {
     "data": {
      "text/html": [
       "<div>\n",
       "<style scoped>\n",
       "    .dataframe tbody tr th:only-of-type {\n",
       "        vertical-align: middle;\n",
       "    }\n",
       "\n",
       "    .dataframe tbody tr th {\n",
       "        vertical-align: top;\n",
       "    }\n",
       "\n",
       "    .dataframe thead th {\n",
       "        text-align: right;\n",
       "    }\n",
       "</style>\n",
       "<table border=\"1\" class=\"dataframe\">\n",
       "  <thead>\n",
       "    <tr style=\"text-align: right;\">\n",
       "      <th></th>\n",
       "      <th>Date</th>\n",
       "      <th>Open</th>\n",
       "      <th>High</th>\n",
       "      <th>Low</th>\n",
       "      <th>Close</th>\n",
       "      <th>Adj Close</th>\n",
       "      <th>Volume</th>\n",
       "    </tr>\n",
       "  </thead>\n",
       "  <tbody>\n",
       "    <tr>\n",
       "      <th>0</th>\n",
       "      <td>2019-12-24</td>\n",
       "      <td>1812.000000</td>\n",
       "      <td>1826.000000</td>\n",
       "      <td>1799.050049</td>\n",
       "      <td>1803.449951</td>\n",
       "      <td>1780.978882</td>\n",
       "      <td>896574</td>\n",
       "    </tr>\n",
       "    <tr>\n",
       "      <th>1</th>\n",
       "      <td>2019-12-26</td>\n",
       "      <td>1799.400024</td>\n",
       "      <td>1819.699951</td>\n",
       "      <td>1797.050049</td>\n",
       "      <td>1809.599976</td>\n",
       "      <td>1787.052246</td>\n",
       "      <td>1161570</td>\n",
       "    </tr>\n",
       "    <tr>\n",
       "      <th>2</th>\n",
       "      <td>2019-12-27</td>\n",
       "      <td>1811.000000</td>\n",
       "      <td>1826.000000</td>\n",
       "      <td>1800.599976</td>\n",
       "      <td>1812.250000</td>\n",
       "      <td>1789.669189</td>\n",
       "      <td>930468</td>\n",
       "    </tr>\n",
       "    <tr>\n",
       "      <th>3</th>\n",
       "      <td>2019-12-30</td>\n",
       "      <td>1810.000000</td>\n",
       "      <td>1818.449951</td>\n",
       "      <td>1798.699951</td>\n",
       "      <td>1802.300049</td>\n",
       "      <td>1779.843262</td>\n",
       "      <td>562492</td>\n",
       "    </tr>\n",
       "    <tr>\n",
       "      <th>4</th>\n",
       "      <td>2019-12-31</td>\n",
       "      <td>1805.000000</td>\n",
       "      <td>1805.000000</td>\n",
       "      <td>1781.099976</td>\n",
       "      <td>1784.949951</td>\n",
       "      <td>1762.709229</td>\n",
       "      <td>928396</td>\n",
       "    </tr>\n",
       "  </tbody>\n",
       "</table>\n",
       "</div>"
      ],
      "text/plain": [
       "         Date         Open         High          Low        Close  \\\n",
       "0  2019-12-24  1812.000000  1826.000000  1799.050049  1803.449951   \n",
       "1  2019-12-26  1799.400024  1819.699951  1797.050049  1809.599976   \n",
       "2  2019-12-27  1811.000000  1826.000000  1800.599976  1812.250000   \n",
       "3  2019-12-30  1810.000000  1818.449951  1798.699951  1802.300049   \n",
       "4  2019-12-31  1805.000000  1805.000000  1781.099976  1784.949951   \n",
       "\n",
       "     Adj Close   Volume  \n",
       "0  1780.978882   896574  \n",
       "1  1787.052246  1161570  \n",
       "2  1789.669189   930468  \n",
       "3  1779.843262   562492  \n",
       "4  1762.709229   928396  "
      ]
     },
     "execution_count": 2,
     "metadata": {},
     "output_type": "execute_result"
    }
   ],
   "source": [
    "# Load the dataset\n",
    "df = pd.read_csv(\"ASIANPAINT.NS.csv\")\n",
    "df.head()"
   ]
  },
  {
   "cell_type": "code",
   "execution_count": 3,
   "metadata": {},
   "outputs": [
    {
     "data": {
      "text/plain": [
       "(498, 7)"
      ]
     },
     "execution_count": 3,
     "metadata": {},
     "output_type": "execute_result"
    }
   ],
   "source": [
    "df.shape"
   ]
  },
  {
   "cell_type": "code",
   "execution_count": 4,
   "metadata": {},
   "outputs": [
    {
     "name": "stdout",
     "output_type": "stream",
     "text": [
      "<class 'pandas.core.frame.DataFrame'>\n",
      "RangeIndex: 498 entries, 0 to 497\n",
      "Data columns (total 7 columns):\n",
      " #   Column     Non-Null Count  Dtype  \n",
      "---  ------     --------------  -----  \n",
      " 0   Date       498 non-null    object \n",
      " 1   Open       498 non-null    float64\n",
      " 2   High       498 non-null    float64\n",
      " 3   Low        498 non-null    float64\n",
      " 4   Close      498 non-null    float64\n",
      " 5   Adj Close  498 non-null    float64\n",
      " 6   Volume     498 non-null    int64  \n",
      "dtypes: float64(5), int64(1), object(1)\n",
      "memory usage: 27.4+ KB\n"
     ]
    }
   ],
   "source": [
    "df.info()"
   ]
  },
  {
   "cell_type": "code",
   "execution_count": 5,
   "metadata": {},
   "outputs": [
    {
     "data": {
      "text/html": [
       "<div>\n",
       "<style scoped>\n",
       "    .dataframe tbody tr th:only-of-type {\n",
       "        vertical-align: middle;\n",
       "    }\n",
       "\n",
       "    .dataframe tbody tr th {\n",
       "        vertical-align: top;\n",
       "    }\n",
       "\n",
       "    .dataframe thead th {\n",
       "        text-align: right;\n",
       "    }\n",
       "</style>\n",
       "<table border=\"1\" class=\"dataframe\">\n",
       "  <thead>\n",
       "    <tr style=\"text-align: right;\">\n",
       "      <th></th>\n",
       "      <th>Date</th>\n",
       "      <th>High</th>\n",
       "      <th>Low</th>\n",
       "    </tr>\n",
       "  </thead>\n",
       "  <tbody>\n",
       "    <tr>\n",
       "      <th>0</th>\n",
       "      <td>2019-12-24</td>\n",
       "      <td>1826.000000</td>\n",
       "      <td>1799.050049</td>\n",
       "    </tr>\n",
       "    <tr>\n",
       "      <th>1</th>\n",
       "      <td>2019-12-26</td>\n",
       "      <td>1819.699951</td>\n",
       "      <td>1797.050049</td>\n",
       "    </tr>\n",
       "    <tr>\n",
       "      <th>2</th>\n",
       "      <td>2019-12-27</td>\n",
       "      <td>1826.000000</td>\n",
       "      <td>1800.599976</td>\n",
       "    </tr>\n",
       "    <tr>\n",
       "      <th>3</th>\n",
       "      <td>2019-12-30</td>\n",
       "      <td>1818.449951</td>\n",
       "      <td>1798.699951</td>\n",
       "    </tr>\n",
       "    <tr>\n",
       "      <th>4</th>\n",
       "      <td>2019-12-31</td>\n",
       "      <td>1805.000000</td>\n",
       "      <td>1781.099976</td>\n",
       "    </tr>\n",
       "  </tbody>\n",
       "</table>\n",
       "</div>"
      ],
      "text/plain": [
       "         Date         High          Low\n",
       "0  2019-12-24  1826.000000  1799.050049\n",
       "1  2019-12-26  1819.699951  1797.050049\n",
       "2  2019-12-27  1826.000000  1800.599976\n",
       "3  2019-12-30  1818.449951  1798.699951\n",
       "4  2019-12-31  1805.000000  1781.099976"
      ]
     },
     "execution_count": 5,
     "metadata": {},
     "output_type": "execute_result"
    }
   ],
   "source": [
    "# Dropping unnecessary columns\n",
    "df.drop(columns=['Open', 'Close', 'Adj Close', 'Volume'], inplace=True)\n",
    "df.head()"
   ]
  },
  {
   "cell_type": "code",
   "execution_count": 6,
   "metadata": {},
   "outputs": [
    {
     "data": {
      "text/html": [
       "<div>\n",
       "<style scoped>\n",
       "    .dataframe tbody tr th:only-of-type {\n",
       "        vertical-align: middle;\n",
       "    }\n",
       "\n",
       "    .dataframe tbody tr th {\n",
       "        vertical-align: top;\n",
       "    }\n",
       "\n",
       "    .dataframe thead th {\n",
       "        text-align: right;\n",
       "    }\n",
       "</style>\n",
       "<table border=\"1\" class=\"dataframe\">\n",
       "  <thead>\n",
       "    <tr style=\"text-align: right;\">\n",
       "      <th></th>\n",
       "      <th>Date</th>\n",
       "      <th>High</th>\n",
       "      <th>Low</th>\n",
       "      <th>Price</th>\n",
       "    </tr>\n",
       "  </thead>\n",
       "  <tbody>\n",
       "    <tr>\n",
       "      <th>0</th>\n",
       "      <td>2019-12-24</td>\n",
       "      <td>1826.000000</td>\n",
       "      <td>1799.050049</td>\n",
       "      <td>1812.525024</td>\n",
       "    </tr>\n",
       "    <tr>\n",
       "      <th>1</th>\n",
       "      <td>2019-12-26</td>\n",
       "      <td>1819.699951</td>\n",
       "      <td>1797.050049</td>\n",
       "      <td>1808.375000</td>\n",
       "    </tr>\n",
       "    <tr>\n",
       "      <th>2</th>\n",
       "      <td>2019-12-27</td>\n",
       "      <td>1826.000000</td>\n",
       "      <td>1800.599976</td>\n",
       "      <td>1813.299988</td>\n",
       "    </tr>\n",
       "    <tr>\n",
       "      <th>3</th>\n",
       "      <td>2019-12-30</td>\n",
       "      <td>1818.449951</td>\n",
       "      <td>1798.699951</td>\n",
       "      <td>1808.574951</td>\n",
       "    </tr>\n",
       "    <tr>\n",
       "      <th>4</th>\n",
       "      <td>2019-12-31</td>\n",
       "      <td>1805.000000</td>\n",
       "      <td>1781.099976</td>\n",
       "      <td>1793.049988</td>\n",
       "    </tr>\n",
       "  </tbody>\n",
       "</table>\n",
       "</div>"
      ],
      "text/plain": [
       "         Date         High          Low        Price\n",
       "0  2019-12-24  1826.000000  1799.050049  1812.525024\n",
       "1  2019-12-26  1819.699951  1797.050049  1808.375000\n",
       "2  2019-12-27  1826.000000  1800.599976  1813.299988\n",
       "3  2019-12-30  1818.449951  1798.699951  1808.574951\n",
       "4  2019-12-31  1805.000000  1781.099976  1793.049988"
      ]
     },
     "execution_count": 6,
     "metadata": {},
     "output_type": "execute_result"
    }
   ],
   "source": [
    "# Taking new column Price, average of High & Low\n",
    "df['Price'] = (df['High'] + df['Low'])/2\n",
    "df.head()"
   ]
  },
  {
   "cell_type": "code",
   "execution_count": 7,
   "metadata": {},
   "outputs": [
    {
     "data": {
      "text/html": [
       "<div>\n",
       "<style scoped>\n",
       "    .dataframe tbody tr th:only-of-type {\n",
       "        vertical-align: middle;\n",
       "    }\n",
       "\n",
       "    .dataframe tbody tr th {\n",
       "        vertical-align: top;\n",
       "    }\n",
       "\n",
       "    .dataframe thead th {\n",
       "        text-align: right;\n",
       "    }\n",
       "</style>\n",
       "<table border=\"1\" class=\"dataframe\">\n",
       "  <thead>\n",
       "    <tr style=\"text-align: right;\">\n",
       "      <th></th>\n",
       "      <th>Date</th>\n",
       "      <th>Price</th>\n",
       "    </tr>\n",
       "  </thead>\n",
       "  <tbody>\n",
       "    <tr>\n",
       "      <th>0</th>\n",
       "      <td>2019-12-24</td>\n",
       "      <td>1812.525024</td>\n",
       "    </tr>\n",
       "    <tr>\n",
       "      <th>1</th>\n",
       "      <td>2019-12-26</td>\n",
       "      <td>1808.375000</td>\n",
       "    </tr>\n",
       "    <tr>\n",
       "      <th>2</th>\n",
       "      <td>2019-12-27</td>\n",
       "      <td>1813.299988</td>\n",
       "    </tr>\n",
       "    <tr>\n",
       "      <th>3</th>\n",
       "      <td>2019-12-30</td>\n",
       "      <td>1808.574951</td>\n",
       "    </tr>\n",
       "    <tr>\n",
       "      <th>4</th>\n",
       "      <td>2019-12-31</td>\n",
       "      <td>1793.049988</td>\n",
       "    </tr>\n",
       "  </tbody>\n",
       "</table>\n",
       "</div>"
      ],
      "text/plain": [
       "         Date        Price\n",
       "0  2019-12-24  1812.525024\n",
       "1  2019-12-26  1808.375000\n",
       "2  2019-12-27  1813.299988\n",
       "3  2019-12-30  1808.574951\n",
       "4  2019-12-31  1793.049988"
      ]
     },
     "execution_count": 7,
     "metadata": {},
     "output_type": "execute_result"
    }
   ],
   "source": [
    "# Take only Date & Price for further calculations\n",
    "data = df[['Date', 'Price']]\n",
    "data = pd.DataFrame(data)\n",
    "data.head()"
   ]
  },
  {
   "cell_type": "markdown",
   "metadata": {},
   "source": [
    "## Task 1\n",
    "Generate One Step Transition Probability Matrix for depreciation/appreciation of 10%, 8%, 5%, 2% and 1%."
   ]
  },
  {
   "cell_type": "code",
   "execution_count": 8,
   "metadata": {},
   "outputs": [
    {
     "name": "stdout",
     "output_type": "stream",
     "text": [
      "[1812.5250245, 1808.375, 1813.299988, 1808.574951, 1793.049988, 1792.875, 1791.650024, 1763.425049, 1716.0, 1725.75, 1715.5, 1758.0, 1778.6500245, 1801.1499635, 1813.2250365, 1827.549988, 1838.375, 1826.950012, 1847.924988, 1818.2000125, 1792.7749635, 1773.049988, 1790.075012, 1792.875, 1783.5, 1792.424988, 1797.450012, 1806.3499755, 1818.950012, 1875.9000245, 1878.075012, 1863.700012, 1863.549988, 1854.9749755, 1883.625, 1897.449951, 1885.0, 1884.825012, 1882.049988, 1870.450012, 1872.049988, 1862.5250245, 1833.5, 1831.875, 1832.5, 1831.2249755, 1812.625, 1803.3499755, 1792.5, 1830.75, 1867.049988, 1859.700012, 1881.950012, 1878.25, 1844.9000245, 1756.799988, 1727.575012, 1724.9000245, 1683.2750245, 1542.574951, 1663.9750365, 1570.375, 1525.625, 1525.674988, 1612.0, 1607.7249755, 1589.2750245, 1645.9000245, 1619.625, 1566.625, 1586.5, 1643.9000245, 1648.9249875, 1653.25, 1710.2750245, 1718.5250245, 1755.3999635, 1732.150024, 1726.9749755, 1767.125, 1823.2250365, 1828.4000245, 1838.9500125, 1835.1500245, 1801.450012, 1769.0, 1711.25, 1635.575012, 1607.8499755, 1586.949951, 1604.0, 1577.0, 1527.875, 1556.5750125, 1537.299988, 1535.0, 1528.3250125, 1499.949951, 1503.325012, 1542.25, 1590.200012, 1638.4749755, 1616.3999635, 1636.0999755, 1666.049988, 1696.700012, 1706.5, 1724.924988, 1673.299988, 1640.174988, 1647.5, 1665.875, 1651.5, 1626.5, 1610.2249755, 1626.375, 1623.950012, 1606.525024, 1599.75, 1610.5250245, 1648.75, 1665.0, 1748.875, 1715.075012, 1690.5249635, 1691.25, 1699.825012, 1689.0250245, 1682.049988, 1705.0, 1702.075012, 1727.875, 1720.925049, 1707.049988, 1703.0999755, 1716.450012, 1700.049988, 1688.4500125, 1671.099976, 1716.125, 1738.799988, 1745.375, 1713.700012, 1713.5, 1704.5, 1752.5999755, 1771.8500365, 1754.950012, 1753.049988, 1740.650024, 1716.25, 1721.7750245, 1727.2249755, 1736.099976, 1771.2999875, 1800.6500245, 1808.9000245, 1789.0, 1801.5, 1812.75, 1822.174988, 1857.5, 1887.4750365, 1868.5250245, 1927.0, 1968.0, 1990.424988, 1982.25, 1989.5250245, 1975.1500245, 1932.575012, 1947.875, 1961.0, 1966.424988, 1972.3499755, 1975.875, 1976.9749755, 1975.950012, 2025.3499755, 2045.9749755, 2029.5, 2029.300049, 2010.575012, 2022.5, 2029.674988, 2009.6500245, 1961.0249635, 1959.1500245, 1926.375, 1931.5, 1944.0, 1971.9749755, 1981.075012, 2020.7000735, 2026.8499755, 2071.4999390000003, 2096.375, 2090.0, 2077.024963, 2063.8499755000003, 2084.0250244999997, 2070.25, 2095.0250244999997, 2072.7750244999997, 2068.2249755000003, 2099.5750735, 2112.550049, 2096.8250735, 2112.699951, 2093.2000735, 2146.175049, 2184.3499755000003, 2197.175049, 2219.175049, 2196.0, 2170.324951, 2184.925049, 2214.6749265, 2225.25, 2231.574951, 2213.7750244999997, 2190.1500244999997, 2181.875, 2189.2750244999997, 2186.875, 2201.949951, 2188.050049, 2175.8499755000003, 2175.300049, 2167.875, 2211.0, 2179.3499755000003, 2147.2999265, 2204.800049, 2240.5999755000003, 2280.9749755000003, 2369.050049, 2410.0, 2457.9000244999997, 2456.074951, 2489.550049, 2526.5, 2515.949951, 2537.449951, 2520.550049, 2562.75, 2580.175049, 2605.7750244999997, 2570.7000735, 2554.9000244999997, 2627.0, 2635.5, 2659.5250244999997, 2692.7249755000003, 2711.600098, 2748.5250244999997, 2771.0, 2768.050049, 2768.300049, 2801.2249755000003, 2806.675049, 2819.425049, 2849.0250244999997, 2781.074951, 2720.5, 2692.324951, 2621.2000735, 2587.625, 2633.300049, 2676.0999755000003, 2755.9749755000003, 2679.425049, 2566.25, 2477.7750244999997, 2427.5, 2442.0, 2422.324951, 2472.550049, 2471.100098, 2427.0, 2397.3499755000003, 2404.149902, 2478.0499265, 2515.0, 2517.550049, 2493.5999755000003, 2483.0250244999997, 2448.550049, 2418.5250244999997, 2437.425049, 2435.449951, 2414.0, 2357.5, 2378.2750244999997, 2361.2249755000003, 2310.0, 2334.949951, 2380.7750244999997, 2396.75, 2392.5, 2400.5, 2386.7750244999997, 2420.074951, 2430.7750244999997, 2430.824951, 2385.300049, 2427.675049, 2435.550049, 2429.425049, 2394.675049, 2414.050049, 2416.074951, 2440.0, 2430.5, 2461.5250244999997, 2552.4749755000003, 2556.9749755000003, 2548.2750244999997, 2521.25, 2562.25, 2634.0750735, 2643.199951, 2632.574951, 2582.5, 2595.1500244999997, 2565.2750244999997, 2637.5999755000003, 2608.425049, 2566.75, 2522.5, 2530.5999755000003, 2552.5, 2556.949951, 2597.625, 2606.0, 2564.925049, 2550.350098, 2594.75, 2581.550049, 2554.925049, 2565.75, 2565.574951, 2541.6500244999997, 2559.4749755000003, 2718.4000244999997, 2785.875, 2817.0, 2823.824951, 2811.75, 2824.5, 2828.5999755000003, 2872.699951, 2929.149902, 2933.625, 2947.4749755000003, 2963.0250244999997, 2948.850098, 2905.449951, 2923.0250244999997, 2949.0, 2922.4749755000003, 2925.875, 2942.300049, 2939.9749755000003, 2955.100098, 2943.25, 3005.4749755000003, 3023.8499755000003, 3037.2249755000003, 3046.925049, 3050.0999755000003, 3048.5250244999997, 3006.75, 3012.574951, 3019.25, 3007.550049, 2998.4500735, 3007.824951, 3011.949951, 3019.2750244999997, 3028.550049, 3012.75, 3040.125, 3038.9000244999997, 3023.074951, 3016.9500735, 3003.225098, 2995.9749755000003, 2991.050049, 2985.5, 2982.3499755000003, 3079.5250244999997, 3127.5, 3103.8250735, 3085.0999755000003, 3051.4000244999997, 3008.5, 3015.125, 2980.274902, 2973.7249755000003, 3029.5999755000003, 3032.6500244999997, 3010.0250244999997, 2981.2249755000003, 2994.0250244999997, 2984.425049, 2977.0, 2971.625, 2987.550049, 2972.074951, 3008.550049, 3020.2750244999997, 3062.7750244999997, 3107.425049, 3063.675049, 3041.300049, 3055.3499755000003, 3039.2249755000003, 3081.1500244999997, 3156.5250244999997, 3274.0, 3292.824951, 3315.7249755000003, 3326.7999265, 3359.225098, 3329.2750244999997, 3332.0, 3352.175049, 3372.725098, 3365.449951, 3353.0, 3333.5250244999997, 3290.0, 3303.0, 3309.0999755000003, 3327.5, 3412.925049, 3443.824951, 3389.8499755000003, 3345.8499755000003, 3283.8499755000003, 3211.4749755000003, 3204.25, 3225.824951, 3240.324951, 3269.0, 3296.550049, 3321.050049, 3307.5, 3325.149902, 3321.4749755000003, 3257.9749755000003, 3222.600098, 3178.2999265, 3057.949951, 2957.5499265, 2903.625, 2961.0, 3087.0999755000003, 3104.800049, 3114.0, 3116.949951, 3109.9000244999997, 3138.949951, 3167.5, 3138.074951, 3137.5, 3108.574951, 3079.324951, 3101.9000244999997, 3153.0, 3164.550049, 3202.4749755000003, 3237.0, 3261.7000735, 3229.925049, 3179.449951, 3143.175049, 3129.175049, 3125.399902, 3152.574951, 3161.925049, 3173.125, 3146.7249755000003, 3071.625, 3042.7249755000003, 3077.0, 3147.0250244999997, 3235.3499755000003, 3305.9749755000003, 3277.0, 3290.2249755000003, 3297.800049, 3260.5, 3228.0, 3268.0, 3263.324951, 3278.949951]\n"
     ]
    }
   ],
   "source": [
    "# Convert Price column to list\n",
    "prices = df['Price'].tolist()\n",
    "print(prices)"
   ]
  },
  {
   "cell_type": "code",
   "execution_count": 9,
   "metadata": {},
   "outputs": [
    {
     "name": "stdout",
     "output_type": "stream",
     "text": [
      "For depreciation of 10.0%, One step transition matrix is: \n",
      "\n",
      "[[  0.   0.   0.]\n",
      " [  0. 497.   0.]\n",
      " [  0.   0.   0.]]\n",
      "\n",
      "\n",
      "Corresponding One step transition probability matrix is :\n",
      "\n",
      "[[0. 0. 0.]\n",
      " [0. 1. 0.]\n",
      " [0. 0. 0.]]\n",
      "\n",
      "\n",
      "For depreciation of 8.0%, One step transition matrix is: \n",
      "\n",
      "[[  0.   1.   0.]\n",
      " [  1. 495.   0.]\n",
      " [  0.   0.   0.]]\n",
      "\n",
      "\n",
      "Corresponding One step transition probability matrix is :\n",
      "\n",
      "[[0.         1.         0.        ]\n",
      " [0.00201613 0.99798387 0.        ]\n",
      " [0.         0.         0.        ]]\n",
      "\n",
      "\n",
      "For depreciation of 5.0%, One step transition matrix is: \n",
      "\n",
      "[[  0.   1.   1.]\n",
      " [  1. 487.   3.]\n",
      " [  1.   3.   0.]]\n",
      "\n",
      "\n",
      "Corresponding One step transition probability matrix is :\n",
      "\n",
      "[[0.         0.5        0.5       ]\n",
      " [0.00203666 0.99185336 0.00610998]\n",
      " [0.25       0.75       0.        ]]\n",
      "\n",
      "\n",
      "For depreciation of 2.0%, One step transition matrix is: \n",
      "\n",
      "[[  8.  17.   1.]\n",
      " [ 16. 374.  36.]\n",
      " [  2.  35.   8.]]\n",
      "\n",
      "\n",
      "Corresponding One step transition probability matrix is :\n",
      "\n",
      "[[0.30769231 0.65384615 0.03846154]\n",
      " [0.03755869 0.87793427 0.08450704]\n",
      " [0.04444444 0.77777778 0.17777778]]\n",
      "\n",
      "\n",
      "For depreciation of 1.0%, One step transition matrix is: \n",
      "\n",
      "[[ 40.  41.  16.]\n",
      " [ 40. 190.  56.]\n",
      " [ 17.  55.  42.]]\n",
      "\n",
      "\n",
      "Corresponding One step transition probability matrix is :\n",
      "\n",
      "[[0.41237113 0.42268041 0.16494845]\n",
      " [0.13986014 0.66433566 0.1958042 ]\n",
      " [0.14912281 0.48245614 0.36842105]]\n",
      "\n",
      "\n"
     ]
    },
    {
     "name": "stderr",
     "output_type": "stream",
     "text": [
      "<ipython-input-9-085d029098e8>:26: RuntimeWarning: invalid value encountered in double_scalars\n",
      "  TPM[i, j] = P[i, j]/np.sum(P[i])\n"
     ]
    }
   ],
   "source": [
    "# Make the One Step Transition Matrix and One Step Transition Probability Matrix\n",
    "depreciation = [0.1, 0.08, 0.05, 0.02, 0.01]\n",
    "\n",
    "for p in depreciation:\n",
    "    prev_price = prices[0]\n",
    "    last_stage = 1\n",
    "    P = np.zeros([3, 3])\n",
    "    TPM = np.zeros([3, 3])\n",
    "    for day_price in prices[1:]:\n",
    "        if (day_price - prev_price)/prev_price < -p:\n",
    "            next_stage = 0\n",
    "            P[last_stage, next_stage] += 1\n",
    "            last_stage = 0\n",
    "        elif (day_price - prev_price)/prev_price > -p and (day_price - prev_price)/prev_price < p:\n",
    "            next_stage = 1\n",
    "            P[last_stage, next_stage] += 1\n",
    "            last_stage = 1\n",
    "        else:\n",
    "            next_stage = 2\n",
    "            P[last_stage, next_stage] += 1\n",
    "            last_stage = 2\n",
    "        prev_price = day_price\n",
    "    \n",
    "    for i in range(0, 3):\n",
    "        for j in range(0, 3):\n",
    "            TPM[i, j] = P[i, j]/np.sum(P[i])\n",
    "    TPM[np.isnan(TPM)] = 0\n",
    "            \n",
    "    print(\"For depreciation of {}%, One step transition matrix is: \\n\".format(p*100))\n",
    "    print(P)\n",
    "    print(\"\\n\")\n",
    "    print(\"Corresponding One step transition probability matrix is :\\n\")\n",
    "    print(TPM)\n",
    "    print(\"\\n\")"
   ]
  },
  {
   "cell_type": "markdown",
   "metadata": {},
   "source": [
    "## Task 2\n",
    "Suppose, we have ₹1,00,000. On Dec 24, 2019, we will buy stocks with that money and hold it until the day when the price is depreciated by 10% or more. Then we will sell it and again buy with the money received when the price is depreciated by 10% or more. We will do this upto Dec 23, 2021. We will try this for depreciation by 10%, 8%, 5%, 2% and 1%.."
   ]
  },
  {
   "cell_type": "code",
   "execution_count": 55,
   "metadata": {},
   "outputs": [
    {
     "name": "stdout",
     "output_type": "stream",
     "text": [
      "For depreciation of 10.0%, after 2 years, I have ₹180905.0858155476\n",
      "For depreciation of 8.0%, after 2 years, I have ₹85106.40847154826\n",
      "For depreciation of 5.0%, after 2 years, I have ₹177702.55759775158\n",
      "For depreciation of 2.0%, after 2 years, I have ₹135557.59498870242\n",
      "For depreciation of 1.0%, after 2 years, I have ₹167494.17527789876\n"
     ]
    }
   ],
   "source": [
    "for p in depreciation:    \n",
    "    money_hand = 100000\n",
    "    prev_price = prices[0]\n",
    "    n = money_hand/prev_price\n",
    "    money_hand = 0\n",
    "\n",
    "    for day_price in prices[1:]:\n",
    "        if (day_price - prev_price)/prev_price < -p:\n",
    "            if n > 0:\n",
    "                money_hand = n * day_price\n",
    "                n = 0\n",
    "            else:\n",
    "                n = money_hand/day_price\n",
    "                money_hand = 0\n",
    "        else:\n",
    "            pass\n",
    "        prev_price = day_price\n",
    "\n",
    "    if n>0:\n",
    "        money_hand = n * day_price\n",
    "    else:\n",
    "        money_hand = money_hand\n",
    "\n",
    "    print(\"For depreciation of {}%, after 2 years, I have ₹{}\".format(p*100, money_hand))"
   ]
  },
  {
   "cell_type": "code",
   "execution_count": null,
   "metadata": {},
   "outputs": [],
   "source": []
  }
 ],
 "metadata": {
  "kernelspec": {
   "display_name": "Python 3",
   "language": "python",
   "name": "python3"
  },
  "language_info": {
   "codemirror_mode": {
    "name": "ipython",
    "version": 3
   },
   "file_extension": ".py",
   "mimetype": "text/x-python",
   "name": "python",
   "nbconvert_exporter": "python",
   "pygments_lexer": "ipython3",
   "version": "3.8.3"
  }
 },
 "nbformat": 4,
 "nbformat_minor": 4
}
